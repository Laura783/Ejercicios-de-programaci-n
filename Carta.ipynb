{
 "cells": [
  {
   "cell_type": "markdown",
   "id": "3d687297-e8b3-4991-a2f9-2b773211bf8a",
   "metadata": {},
   "source": [
    "## Carta a mi misma"
   ]
  },
  {
   "cell_type": "code",
   "execution_count": 24,
   "id": "9c22b950-977e-46e3-86d0-f5ea02d6aec8",
   "metadata": {},
   "outputs": [],
   "source": [
    "from datetime import date\n",
    "from datetime import datetime\n",
    "from datetime import timedelta"
   ]
  },
  {
   "cell_type": "code",
   "execution_count": 66,
   "id": "83b07ec2-e514-4281-94b9-cff88d299e35",
   "metadata": {
    "tags": []
   },
   "outputs": [
    {
     "name": "stdin",
     "output_type": "stream",
     "text": [
      "Ingrese su nombre: Laura\n",
      "Ingrese su edad: 17\n"
     ]
    },
    {
     "name": "stdout",
     "output_type": "stream",
     "text": [
      "\n",
      "Bogotá DC, Colombia                    2023-02-10\n",
      "\n",
      "Estimada Laura, hoy a tus 17 años te encuentras estudiando en la universidad Externado\n",
      "de Colombia,en la carrera de Ciencia de datos un nuevo programa con visión hacia el futuro\n"
     ]
    }
   ],
   "source": [
    "txt=input('Ingrese su nombre:')\n",
    "age=input('Ingrese su edad:')\n",
    "age=int(age)\n",
    "fecha = date.today()\n",
    "nueva_fecha= str(fecha+timedelta(days=365))\n",
    "\n",
    "print ('\\nBogotá DC, Colombia{fechas:>30}'. format( fechas=nueva_fecha))\n",
    "\n",
    "print ('\\nEstimada {nombre}, hoy a tus {edad} años te encuentras estudiando en la universidad Externado\\nde Colombia,en la carrera de Ciencia de datos un nuevo programa con visión hacia el futuro'.format(nombre=txt, edad=age, fechas=nueva_fecha))"
   ]
  },
  {
   "cell_type": "code",
   "execution_count": null,
   "id": "cfb00278-1ca2-4350-9f16-1700f7494f3d",
   "metadata": {},
   "outputs": [],
   "source": []
  }
 ],
 "metadata": {
  "kernelspec": {
   "display_name": "Python 3 (ipykernel)",
   "language": "python",
   "name": "python3"
  },
  "language_info": {
   "codemirror_mode": {
    "name": "ipython",
    "version": 3
   },
   "file_extension": ".py",
   "mimetype": "text/x-python",
   "name": "python",
   "nbconvert_exporter": "python",
   "pygments_lexer": "ipython3",
   "version": "3.9.7"
  }
 },
 "nbformat": 4,
 "nbformat_minor": 5
}
