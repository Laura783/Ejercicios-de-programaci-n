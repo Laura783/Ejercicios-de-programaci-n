{
 "cells": [
  {
   "cell_type": "markdown",
   "id": "e283ffcc-5882-4f3f-b743-0cf2d7d0d527",
   "metadata": {},
   "source": [
    "# Clase 5\n",
    "\n",
    "**Primeros scripts**\n",
    "\n",
    "\n",
    "Vamos a definir en una celda 3 variables, una que contenga mi nomre, otra que contenga mi edad y otra que muestre el porcentaje de la semana que utilizo para mi curso de programación."
   ]
  },
  {
   "cell_type": "code",
   "execution_count": 2,
   "id": "ddee2ec1-097b-426f-a106-40bf5135ab09",
   "metadata": {},
   "outputs": [],
   "source": [
    "Nombre= 'Laura Alejandra Paiba Celeita'\n",
    "Edad = 17\n",
    "Por_prog = (4+2)/(24*5)"
   ]
  },
  {
   "cell_type": "code",
   "execution_count": 4,
   "id": "b2a78220-4e08-49ed-ad84-11fedf020b3e",
   "metadata": {},
   "outputs": [
    {
     "data": {
      "text/plain": [
       "' Mi nombre es Laura Alejandra Paiba Celeita, tengo 17 años y soy externadista'"
      ]
     },
     "execution_count": 4,
     "metadata": {},
     "output_type": "execute_result"
    }
   ],
   "source": [
    "texto1 = ' Mi nombre es {}, tengo {} años y soy externadista'.format(Nombre, Edad)\n",
    "texto1"
   ]
  },
  {
   "cell_type": "code",
   "execution_count": 6,
   "id": "e5e64816-611b-4073-8ff1-1332b3893896",
   "metadata": {},
   "outputs": [
    {
     "data": {
      "text/plain": [
       "'Mi nombre es Laura Alejandra Paiba Celeita, tengo 17 años y soy Externadista'"
      ]
     },
     "execution_count": 6,
     "metadata": {},
     "output_type": "execute_result"
    }
   ],
   "source": [
    "texto1='Mi nombre es {nombre}, tengo {edad} años y soy Externadista' .format (nombre=Nombre, edad=Edad)\n",
    "texto1"
   ]
  },
  {
   "cell_type": "code",
   "execution_count": 9,
   "id": "9a5519d5-6229-4d81-b000-0db92cd79731",
   "metadata": {},
   "outputs": [
    {
     "data": {
      "text/plain": [
       "'Mi nombre es Laura Alejandra Paiba Celeita, tengo 17 años y soy Externadista y dedico el 5.0% de la semana a programación'"
      ]
     },
     "execution_count": 9,
     "metadata": {},
     "output_type": "execute_result"
    }
   ],
   "source": [
    "texto2= 'Mi nombre es {nombre}, tengo {edad} años y soy Externadista y dedico el {porcentaje:.1%} de la semana a programación' .format (nombre=Nombre, edad=Edad, porcentaje=Por_prog)\n",
    "texto2"
   ]
  },
  {
   "cell_type": "code",
   "execution_count": 17,
   "id": "716c3bef-af8b-493d-9829-f81c86858238",
   "metadata": {},
   "outputs": [
    {
     "name": "stdout",
     "output_type": "stream",
     "text": [
      "Nombre:Laura Alejandra Paiba Celeita\n",
      "Edad:                  17\n"
     ]
    }
   ],
   "source": [
    "texto3='Nombre:{nombre:>8}\\nEdad:{edad:>20}'.format(nombre=Nombre, edad=Edad)\n",
    "print(texto3)"
   ]
  },
  {
   "cell_type": "code",
   "execution_count": 19,
   "id": "132acfd7-59b4-48e1-bd12-fd8bcb3c20f8",
   "metadata": {},
   "outputs": [
    {
     "name": "stdout",
     "output_type": "stream",
     "text": [
      "Laura Alejandra Paiba Celeita : Nombre\n",
      "17                            :Edad\n"
     ]
    }
   ],
   "source": [
    "texto3='{nombre:<30}: Nombre\\n{edad:<30}:Edad' .format(nombre=Nombre, edad=Edad)\n",
    "print(texto3)"
   ]
  },
  {
   "cell_type": "code",
   "execution_count": 21,
   "id": "1dac2b2f-dd82-4c69-a5d1-b8c0964ad0e7",
   "metadata": {},
   "outputs": [
    {
     "name": "stdout",
     "output_type": "stream",
     "text": [
      "Laura Alejandra Paiba Celeita \n",
      "              17              \n"
     ]
    }
   ],
   "source": [
    "texto4='{nombre:<30}\\n{edad:^30}' .format(nombre=Nombre, edad=Edad)\n",
    "print(texto4)"
   ]
  },
  {
   "cell_type": "code",
   "execution_count": 30,
   "id": "d932cae5-bf09-47ec-8340-b9c90d2b8d63",
   "metadata": {},
   "outputs": [
    {
     "name": "stdout",
     "output_type": "stream",
     "text": [
      "El boleto para Bad Bunny valió $22,000,000\n"
     ]
    }
   ],
   "source": [
    "Texto5='El boleto para Bad Bunny valió ${boleto:,}'.format(boleto=22000000)\n",
    "print(Texto5)"
   ]
  },
  {
   "cell_type": "code",
   "execution_count": 31,
   "id": "3fa920f4-fb08-46dc-badb-9a867d3e6b06",
   "metadata": {},
   "outputs": [
    {
     "name": "stdout",
     "output_type": "stream",
     "text": [
      "En binario tengo 10001\n"
     ]
    }
   ],
   "source": [
    "Texto6='En binario tengo {edad:b}'.format(edad=Edad)\n",
    "print(Texto6)"
   ]
  },
  {
   "cell_type": "markdown",
   "id": "86c0e123-0fa7-462a-b424-e79a71281021",
   "metadata": {},
   "source": [
    "## Más métodos de cadenas de carácteres\n",
    "\n",
    "Veamos una  lista de métodod e intentemos definir que hace cada una:"
   ]
  },
  {
   "cell_type": "code",
   "execution_count": 32,
   "id": "12c8b641-9047-4b4b-8716-36f034767e03",
   "metadata": {},
   "outputs": [
    {
     "name": "stdout",
     "output_type": "stream",
     "text": [
      "Hola\n"
     ]
    }
   ],
   "source": [
    "Texto7= 'hola' .capitalize() # Pone mayuscula inicial\n",
    "print(Texto7)"
   ]
  },
  {
   "cell_type": "code",
   "execution_count": 35,
   "id": "0fdb1757-6da0-4785-adcb-fea49ec696de",
   "metadata": {},
   "outputs": [
    {
     "name": "stdout",
     "output_type": "stream",
     "text": [
      "en el monte de la china una china se perdió\n"
     ]
    }
   ],
   "source": [
    "Texto8= 'En el monte de la china una china SE PErdIó' .casefold() # Pone todas las letras en minúcula\n",
    "print(Texto8)"
   ]
  },
  {
   "cell_type": "code",
   "execution_count": 37,
   "id": "065761d8-f209-49ab-9674-fae2dbf89661",
   "metadata": {},
   "outputs": [
    {
     "name": "stdout",
     "output_type": "stream",
     "text": [
      "EN EL MONTE DE LA CHINA UNA CHINA SE PERDIÓ\n"
     ]
    }
   ],
   "source": [
    "Texto9= 'En el monte de la china una china SE PErdIó' .upper() # Pone todas las letras en mayuscula\n",
    "print(Texto9)"
   ]
  },
  {
   "cell_type": "code",
   "execution_count": 38,
   "id": "f61d9868-ea3c-466a-b4ef-df00214b08bd",
   "metadata": {},
   "outputs": [
    {
     "name": "stdout",
     "output_type": "stream",
     "text": [
      "en el monte de la china una china se perdió\n"
     ]
    }
   ],
   "source": [
    "Texto10= 'En el monte de la china una china SE PErdIó' .lower () # Pone todas las letras en minuscula\n",
    "print(Texto10)"
   ]
  },
  {
   "cell_type": "code",
   "execution_count": 39,
   "id": "9b8f03a2-b323-4515-998f-12e0c63ab7fa",
   "metadata": {},
   "outputs": [
    {
     "name": "stdout",
     "output_type": "stream",
     "text": [
      "En el monte de lx-x chinx-x unx-x chinx-x SE PErdIó\n"
     ]
    }
   ],
   "source": [
    "Texto11= 'En el monte de la china una china SE PErdIó' .replace ('a', 'x-x') # Reemplaza las letras por las que se asignen\n",
    "print(Texto11)"
   ]
  },
  {
   "cell_type": "code",
   "execution_count": 40,
   "id": "ddb7669c-55ea-42b6-854d-be892f2bbd3b",
   "metadata": {},
   "outputs": [
    {
     "name": "stdout",
     "output_type": "stream",
     "text": [
      "eN EL MONTE DE LA CHINA UNA CHINA se peRDiÓ\n"
     ]
    }
   ],
   "source": [
    "Texto12= 'En el monte de la china una china SE PErdIó' .swapcase () # Mezcla las letras\n",
    "print(Texto12)"
   ]
  },
  {
   "cell_type": "code",
   "execution_count": 42,
   "id": "852715c2-8e4f-41f9-93b3-5995433910f9",
   "metadata": {},
   "outputs": [
    {
     "name": "stdout",
     "output_type": "stream",
     "text": [
      "                            En el monte de la china una china se perdió                             \n"
     ]
    }
   ],
   "source": [
    "Texto13= 'En el monte de la china una china se perdió' .center (100) # Reemplaza las letras por las que se asignen\n",
    "print(Texto13)"
   ]
  },
  {
   "cell_type": "markdown",
   "id": "f4e516f9-3944-4cdc-ad95-4684403032c9",
   "metadata": {},
   "source": [
    "Otros métodos"
   ]
  },
  {
   "cell_type": "code",
   "execution_count": 44,
   "id": "8632d95d-5de5-4363-b104-98c77e4e1237",
   "metadata": {},
   "outputs": [
    {
     "name": "stdout",
     "output_type": "stream",
     "text": [
      "1\n"
     ]
    }
   ],
   "source": [
    "X1='''Este lunes se llevó a cabo, en la Casa de Nariño, un encuentro entre el embajador ruso en Bogotá, Nikolay K. Tavdumadze, y la vicepresidente y canciller Marta Lucía Ramírez, para aclarar los objetivos de la presencia militar de Rusia en Venezuela. La semana pasada el ministro de defensa, Diego Molano, había hablado de movilización de hombres y unidades de la Fuerza Militar Bolivariana en Venezuela “con el apoyo y la asistencia técnica de Rusia e Irán''' .count('Nariño')\n",
    "print(X1)"
   ]
  },
  {
   "cell_type": "code",
   "execution_count": 47,
   "id": "b3d0a9c2-f62a-4ca5-ad94-4fea3386bbc2",
   "metadata": {},
   "outputs": [
    {
     "name": "stdout",
     "output_type": "stream",
     "text": [
      "4\n"
     ]
    }
   ],
   "source": [
    "x1='''hola\n",
    "muchachos\n",
    "de\n",
    "programación''' .count('a')\n",
    "print(x1)"
   ]
  },
  {
   "cell_type": "code",
   "execution_count": 51,
   "id": "48dc412a-5a3c-47d5-ab35-3b01ef251071",
   "metadata": {},
   "outputs": [
    {
     "name": "stdout",
     "output_type": "stream",
     "text": [
      "0\n"
     ]
    }
   ],
   "source": [
    "x2= 'En el Externado soy muy feliz' .find('En') #Cuenta en que posición esta ubicado\n",
    "print(x2)"
   ]
  },
  {
   "cell_type": "code",
   "execution_count": 52,
   "id": "f12a0224-098e-4f85-bf53-5ab0e1cde7f6",
   "metadata": {},
   "outputs": [
    {
     "name": "stdout",
     "output_type": "stream",
     "text": [
      "3\n"
     ]
    }
   ],
   "source": [
    "x3= 'En el Externado soy muy feliz' .find('el') #Cuenta en que posición esta ubicado\n",
    "print(x3)"
   ]
  },
  {
   "cell_type": "code",
   "execution_count": 54,
   "id": "14a3fad8-0682-4c2e-9147-2fd6c40e4e65",
   "metadata": {},
   "outputs": [
    {
     "name": "stdout",
     "output_type": "stream",
     "text": [
      "6\n"
     ]
    }
   ],
   "source": [
    "x4= 'En el Externado soy muy feliz' .find('Externado') #Cuenta en que posición esta ubicado\n",
    "print(x4)"
   ]
  },
  {
   "cell_type": "markdown",
   "id": "bc59702a-9eb8-49b1-bee7-a701e394d41f",
   "metadata": {},
   "source": [
    "En Python los textos son arreglos, o más bien secuencias ordenadas de caracteres. Cada texto tiene un orden según la aparición de cada caracter."
   ]
  },
  {
   "cell_type": "code",
   "execution_count": 55,
   "id": "9e13b361-0ba0-4d0c-80b6-e20655835111",
   "metadata": {},
   "outputs": [],
   "source": [
    "texto_normal='0123456789'"
   ]
  },
  {
   "cell_type": "code",
   "execution_count": 56,
   "id": "7037020c-a2c6-4923-87f9-e61e8f00321e",
   "metadata": {},
   "outputs": [
    {
     "data": {
      "text/plain": [
       "'0'"
      ]
     },
     "execution_count": 56,
     "metadata": {},
     "output_type": "execute_result"
    }
   ],
   "source": [
    "texto_normal[0] #Identifico a cada caracter en esa lista o arreglo con parentesis cuadrados"
   ]
  },
  {
   "cell_type": "code",
   "execution_count": 57,
   "id": "4f251e1a-9571-4ce0-b5a7-67926eb5043a",
   "metadata": {},
   "outputs": [
    {
     "data": {
      "text/plain": [
       "'4'"
      ]
     },
     "execution_count": 57,
     "metadata": {},
     "output_type": "execute_result"
    }
   ],
   "source": [
    "texto_normal[4]"
   ]
  },
  {
   "cell_type": "code",
   "execution_count": 58,
   "id": "d9a42d6e-84b0-4ec0-b24f-c68b9af936bb",
   "metadata": {},
   "outputs": [
    {
     "data": {
      "text/plain": [
       "'0123'"
      ]
     },
     "execution_count": 58,
     "metadata": {},
     "output_type": "execute_result"
    }
   ],
   "source": [
    "texto_normal[0:4] # Los dos valores separados por dos puntos"
   ]
  },
  {
   "cell_type": "code",
   "execution_count": 59,
   "id": "83eceb9d-d844-48da-847a-f7a7692791ae",
   "metadata": {},
   "outputs": [
    {
     "data": {
      "text/plain": [
       "'45678'"
      ]
     },
     "execution_count": 59,
     "metadata": {},
     "output_type": "execute_result"
    }
   ],
   "source": [
    "texto_normal[4:9]"
   ]
  },
  {
   "cell_type": "code",
   "execution_count": 60,
   "id": "ab9a8ac5-86db-425f-bc89-8f9c7ea985bc",
   "metadata": {},
   "outputs": [],
   "source": [
    "texto='Colombia vera Qatar 2022 desde la sala de la casa' #Cuenta la posición de los caracteres"
   ]
  },
  {
   "cell_type": "code",
   "execution_count": 61,
   "id": "7a22821d-d971-4c85-8887-2ace6a96e855",
   "metadata": {},
   "outputs": [
    {
     "data": {
      "text/plain": [
       "'bia vera Qatar '"
      ]
     },
     "execution_count": 61,
     "metadata": {},
     "output_type": "execute_result"
    }
   ],
   "source": [
    "texto[5:20]"
   ]
  },
  {
   "cell_type": "markdown",
   "id": "dfaf2cea-492d-442d-b298-1a6643d187d7",
   "metadata": {},
   "source": [
    "# Función `input`\n"
   ]
  },
  {
   "cell_type": "code",
   "execution_count": 68,
   "id": "0cd067b2-8d4a-4355-9c60-c0ca864fc78d",
   "metadata": {},
   "outputs": [
    {
     "name": "stdin",
     "output_type": "stream",
     "text": [
      "Escriba un texto aqui:  4\n"
     ]
    },
    {
     "name": "stdout",
     "output_type": "stream",
     "text": [
      "4\n",
      "<class 'str'>\n"
     ]
    }
   ],
   "source": [
    "txt=input('Escriba un texto aqui: ')\n",
    "print(txt)\n",
    "print(type(txt))\n",
    "#Claramente `input` permite que el usuario pueda ingresar texto, ese texto siempre se guardar como cadena de caracteres y si se quiere cambiar debe utilizarse una función adecuada"
   ]
  },
  {
   "cell_type": "code",
   "execution_count": 69,
   "id": "3a123744-f2ea-4c7f-8f64-ddba159f6779",
   "metadata": {},
   "outputs": [
    {
     "name": "stdin",
     "output_type": "stream",
     "text": [
      "Ingrese su nombre:  LAURA\n",
      "Ingrese su edad:  17\n"
     ]
    },
    {
     "name": "stdout",
     "output_type": "stream",
     "text": [
      "LAURA\n",
      "En el 2023 (nombre), tendrá (edad) años\n"
     ]
    }
   ],
   "source": [
    "txt=input('Ingrese su nombre: ')\n",
    "age=input('Ingrese su edad: ')\n",
    "age=int(age)\n",
    "\n",
    "print(txt)\n",
    "print('En el 2023 (nombre), tendrá (edad) años' .format(nombre=txt, edad=age+1))"
   ]
  },
  {
   "cell_type": "code",
   "execution_count": null,
   "id": "86a54c2a-09ed-472a-a1e6-964f52711a12",
   "metadata": {},
   "outputs": [],
   "source": []
  }
 ],
 "metadata": {
  "kernelspec": {
   "display_name": "Python 3 (ipykernel)",
   "language": "python",
   "name": "python3"
  },
  "language_info": {
   "codemirror_mode": {
    "name": "ipython",
    "version": 3
   },
   "file_extension": ".py",
   "mimetype": "text/x-python",
   "name": "python",
   "nbconvert_exporter": "python",
   "pygments_lexer": "ipython3",
   "version": "3.9.7"
  }
 },
 "nbformat": 4,
 "nbformat_minor": 5
}
