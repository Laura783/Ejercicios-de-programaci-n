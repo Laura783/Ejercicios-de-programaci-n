{
 "cells": [
  {
   "cell_type": "markdown",
   "id": "3d687297-e8b3-4991-a2f9-2b773211bf8a",
   "metadata": {},
   "source": [
    "## Carta a mi misma"
   ]
  },
  {
   "cell_type": "code",
   "execution_count": 50,
   "id": "179b699c-26d8-4c1c-8c3c-180037cb3050",
   "metadata": {
    "tags": []
   },
   "outputs": [
    {
     "name": "stdin",
     "output_type": "stream",
     "text": [
      "Ingrese su nombre: Laura\n",
      "Ingrese su edad: 17\n",
      "Ingrese la fecha deseada para la entrega de la carta: 02-03-2023\n"
     ]
    },
    {
     "name": "stdout",
     "output_type": "stream",
     "text": [
      "Laura                                                                      02-03-2023\n",
      "Estimada Laura, hoy a tus 17 años te encuentras estudiando en la universidad Externado de Colombia,en la carrera de Ciencia de datos un nuevo programa con visión hacia el futuro\n"
     ]
    }
   ],
   "source": [
    "txt=input('Ingrese su nombre:')\n",
    "age=input('Ingrese su edad:')\n",
    "age=int(age)\n",
    "date=input('Ingrese la fecha deseada para la entrega de la carta:')\n",
    "\n",
    "\n",
    "print('{nombre:>1}{fecha:>80}\\nEstimada {nombre}, hoy a tus {edad} años te encuentras estudiando en la universidad Externado de Colombia,en la carrera de Ciencia de datos un nuevo programa con visión hacia el futuro' .format(nombre=txt, edad=age, fecha=date))"
   ]
  },
  {
   "cell_type": "code",
   "execution_count": null,
   "id": "9c22b950-977e-46e3-86d0-f5ea02d6aec8",
   "metadata": {},
   "outputs": [],
   "source": []
  }
 ],
 "metadata": {
  "kernelspec": {
   "display_name": "Python 3 (ipykernel)",
   "language": "python",
   "name": "python3"
  },
  "language_info": {
   "codemirror_mode": {
    "name": "ipython",
    "version": 3
   },
   "file_extension": ".py",
   "mimetype": "text/x-python",
   "name": "python",
   "nbconvert_exporter": "python",
   "pygments_lexer": "ipython3",
   "version": "3.9.7"
  }
 },
 "nbformat": 4,
 "nbformat_minor": 5
}
