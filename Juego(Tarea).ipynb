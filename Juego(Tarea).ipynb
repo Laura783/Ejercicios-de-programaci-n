{
 "cells": [
  {
   "cell_type": "markdown",
   "id": "fd6b1889-da0d-47e6-9bef-d73936981ce7",
   "metadata": {},
   "source": [
    "## ADIVINA NÚMEROS\n",
    "\n",
    "\n"
   ]
  },
  {
   "cell_type": "markdown",
   "id": "07d2a6fa-56bb-4103-b1cf-75f5b2f06afc",
   "metadata": {},
   "source": [
    "Adivinaré el número que estas pensando"
   ]
  },
  {
   "cell_type": "code",
   "execution_count": 32,
   "id": "d3abc955-9a82-47c8-b720-c96cf3374ce2",
   "metadata": {},
   "outputs": [
    {
     "name": "stdout",
     "output_type": "stream",
     "text": [
      "Piensa un número\n"
     ]
    }
   ],
   "source": [
    "texto1='Piensa un número'\n",
    "print(texto1)"
   ]
  },
  {
   "cell_type": "code",
   "execution_count": 33,
   "id": "0727cee5-0138-461c-b07f-879636e18149",
   "metadata": {
    "tags": []
   },
   "outputs": [
    {
     "name": "stdout",
     "output_type": "stream",
     "text": [
      "Multiplica por 5 el número que haz pensado\n"
     ]
    }
   ],
   "source": [
    "texto2='Multiplica por 5 el número que haz pensado'\n",
    "print(texto2)"
   ]
  },
  {
   "cell_type": "code",
   "execution_count": 34,
   "id": "28a7534d-8432-451e-a04c-edff5c1c4585",
   "metadata": {},
   "outputs": [
    {
     "name": "stdout",
     "output_type": "stream",
     "text": [
      "Al resultado anterior, súmale 12\n"
     ]
    }
   ],
   "source": [
    "texto3='Al resultado anterior, súmale 12'\n",
    "print(texto3)"
   ]
  },
  {
   "cell_type": "code",
   "execution_count": 35,
   "id": "c13b1925-8127-424a-b2b5-d6b16c23120d",
   "metadata": {},
   "outputs": [
    {
     "name": "stdout",
     "output_type": "stream",
     "text": [
      "Multiplica el nuevo resultado por 10\n"
     ]
    }
   ],
   "source": [
    "texto4='Multiplica el nuevo resultado por 10'\n",
    "print(texto4)"
   ]
  },
  {
   "cell_type": "code",
   "execution_count": 36,
   "id": "edbf7303-7412-47ee-8fd6-11942036ea58",
   "metadata": {},
   "outputs": [
    {
     "name": "stdout",
     "output_type": "stream",
     "text": [
      "A lo que quedó súmale 5\n"
     ]
    }
   ],
   "source": [
    "texto5='A lo que quedó súmale 5'\n",
    "print(texto5)"
   ]
  },
  {
   "cell_type": "code",
   "execution_count": 37,
   "id": "34bedf67-8044-4d4c-8a24-957eae7505d1",
   "metadata": {},
   "outputs": [
    {
     "name": "stdout",
     "output_type": "stream",
     "text": [
      "Al nuevo resultado multiplicalo por 2\n"
     ]
    }
   ],
   "source": [
    "texto6='Al nuevo resultado multiplicalo por 2'\n",
    "print(texto6)"
   ]
  },
  {
   "cell_type": "code",
   "execution_count": 38,
   "id": "9a384678-c6b0-4bb9-b07a-4c052c710c3f",
   "metadata": {},
   "outputs": [
    {
     "name": "stdout",
     "output_type": "stream",
     "text": [
      "Ahora voy a adivinar el número que pensaste\n"
     ]
    }
   ],
   "source": [
    "texto7='Ahora voy a adivinar el número que pensaste'\n",
    "print(texto7)"
   ]
  },
  {
   "cell_type": "code",
   "execution_count": 65,
   "id": "18e2a0cb-01b9-448c-97aa-9731cf4a1575",
   "metadata": {},
   "outputs": [
    {
     "name": "stdin",
     "output_type": "stream",
     "text": [
      "Ingrese el resultado final de las anteriores operaciones:  450\n"
     ]
    },
    {
     "name": "stdout",
     "output_type": "stream",
     "text": [
      "El número que usted pensó inicialmente es 2.0\n"
     ]
    }
   ],
   "source": [
    "txt=input('Ingrese el resultado final de las anteriores operaciones: ')\n",
    "txt=int(txt)\n",
    "\n",
    "print('El número que usted pensó inicialmente es {x}' .format(x=(txt-250)/100))"
   ]
  },
  {
   "cell_type": "code",
   "execution_count": null,
   "id": "f8afe5b3-cd9d-4a21-9126-a822b67c4e1f",
   "metadata": {},
   "outputs": [],
   "source": []
  }
 ],
 "metadata": {
  "kernelspec": {
   "display_name": "Python 3 (ipykernel)",
   "language": "python",
   "name": "python3"
  },
  "language_info": {
   "codemirror_mode": {
    "name": "ipython",
    "version": 3
   },
   "file_extension": ".py",
   "mimetype": "text/x-python",
   "name": "python",
   "nbconvert_exporter": "python",
   "pygments_lexer": "ipython3",
   "version": "3.9.7"
  }
 },
 "nbformat": 4,
 "nbformat_minor": 5
}
