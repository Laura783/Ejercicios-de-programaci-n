{
 "cells": [
  {
   "cell_type": "markdown",
   "id": "a5b8ba4e",
   "metadata": {},
   "source": [
    "# Listas\n",
    "\n",
    "Ws un tipo de dato que se crea a partir de otros de una manera secuenciada, por ejemplo, si queremos la lista con los digitosdebemos escribir como sigue:\n",
    "\n",
    "```python\n",
    "Listas=[El1,El2,...,Eln]\n",
    "´´´\n",
    "\n",
    "Por ejemplo,la lista de digitos seria la siguiente:"
   ]
  },
  {
   "cell_type": "code",
   "execution_count": 1,
   "id": "81279180",
   "metadata": {},
   "outputs": [],
   "source": [
    "Digitos=[0,1,2,3,4,5,6,7,8,9]"
   ]
  },
  {
   "cell_type": "code",
   "execution_count": 2,
   "id": "88b551d3",
   "metadata": {},
   "outputs": [
    {
     "data": {
      "text/plain": [
       "list"
      ]
     },
     "execution_count": 2,
     "metadata": {},
     "output_type": "execute_result"
    }
   ],
   "source": [
    "type(Digitos)"
   ]
  },
  {
   "cell_type": "markdown",
   "id": "6c539ca3",
   "metadata": {},
   "source": [
    "Si quiero saber cuantos elemtos tiene la lista entonces utilizo `len`"
   ]
  },
  {
   "cell_type": "code",
   "execution_count": 3,
   "id": "a062b871",
   "metadata": {},
   "outputs": [
    {
     "data": {
      "text/plain": [
       "10"
      ]
     },
     "execution_count": 3,
     "metadata": {},
     "output_type": "execute_result"
    }
   ],
   "source": [
    "len(Digitos)"
   ]
  },
  {
   "cell_type": "markdown",
   "id": "f9ce34c7",
   "metadata": {},
   "source": [
    "Recordemos que los textos podiamos determinar el caracter n-ésimo del texto asi:"
   ]
  },
  {
   "cell_type": "code",
   "execution_count": 7,
   "id": "9868acdf",
   "metadata": {},
   "outputs": [],
   "source": [
    "texto='Hola'"
   ]
  },
  {
   "cell_type": "code",
   "execution_count": 8,
   "id": "786d7ced",
   "metadata": {},
   "outputs": [
    {
     "data": {
      "text/plain": [
       "'o'"
      ]
     },
     "execution_count": 8,
     "metadata": {},
     "output_type": "execute_result"
    }
   ],
   "source": [
    "texto[1]"
   ]
  },
  {
   "cell_type": "markdown",
   "id": "639addde",
   "metadata": {},
   "source": [
    "En la lista podemos hacer algo similar:"
   ]
  },
  {
   "cell_type": "code",
   "execution_count": 9,
   "id": "90a6e997",
   "metadata": {},
   "outputs": [
    {
     "data": {
      "text/plain": [
       "[0, 1, 2, 3, 4, 5, 6, 7, 8, 9]"
      ]
     },
     "execution_count": 9,
     "metadata": {},
     "output_type": "execute_result"
    }
   ],
   "source": [
    "Digitos"
   ]
  },
  {
   "cell_type": "code",
   "execution_count": 10,
   "id": "4da5f4eb",
   "metadata": {},
   "outputs": [
    {
     "data": {
      "text/plain": [
       "5"
      ]
     },
     "execution_count": 10,
     "metadata": {},
     "output_type": "execute_result"
    }
   ],
   "source": [
    "Digitos[5]"
   ]
  },
  {
   "cell_type": "code",
   "execution_count": 24,
   "id": "007fa8b1",
   "metadata": {},
   "outputs": [],
   "source": [
    "Lista2=['uno','dos','tres','cuatro','cinco','seis','siete','ocho','nueve','cero']"
   ]
  },
  {
   "cell_type": "code",
   "execution_count": 25,
   "id": "e73151b6",
   "metadata": {},
   "outputs": [
    {
     "data": {
      "text/plain": [
       "'cuatro'"
      ]
     },
     "execution_count": 25,
     "metadata": {},
     "output_type": "execute_result"
    }
   ],
   "source": [
    "Lista2[3]"
   ]
  },
  {
   "cell_type": "markdown",
   "id": "5d567959",
   "metadata": {},
   "source": [
    "Observe que el elemento n de la lista es el elemento n+1-ésimo pues Python cuenta desde cero."
   ]
  },
  {
   "cell_type": "code",
   "execution_count": 26,
   "id": "9d5010c5",
   "metadata": {},
   "outputs": [
    {
     "name": "stdout",
     "output_type": "stream",
     "text": [
      "9\n",
      "uno\n"
     ]
    }
   ],
   "source": [
    "# El primer elemento\n",
    "print(Digitos[0])\n",
    "print(Lista2[0])"
   ]
  },
  {
   "cell_type": "code",
   "execution_count": 27,
   "id": "b3abbb19",
   "metadata": {},
   "outputs": [
    {
     "name": "stdout",
     "output_type": "stream",
     "text": [
      "0\n",
      "cero\n"
     ]
    }
   ],
   "source": [
    "print(Digitos[9])\n",
    "print(Lista2[9])"
   ]
  },
  {
   "cell_type": "markdown",
   "id": "68daf319",
   "metadata": {},
   "source": [
    "En este Ultimo ejercico consultamos el último elemento, en Pytgon lo podemos hacer usando indices negativos (indice: El valor dentro de los parentesis cuadrados que permite acceder a los elementos dentro de la lista)"
   ]
  },
  {
   "cell_type": "code",
   "execution_count": 17,
   "id": "78f988e2",
   "metadata": {},
   "outputs": [
    {
     "data": {
      "text/plain": [
       "9"
      ]
     },
     "execution_count": 17,
     "metadata": {},
     "output_type": "execute_result"
    }
   ],
   "source": [
    "Digitos[-1]"
   ]
  },
  {
   "cell_type": "code",
   "execution_count": 18,
   "id": "2961b742",
   "metadata": {},
   "outputs": [
    {
     "data": {
      "text/plain": [
       "8"
      ]
     },
     "execution_count": 18,
     "metadata": {},
     "output_type": "execute_result"
    }
   ],
   "source": [
    "Digitos[-2]"
   ]
  },
  {
   "cell_type": "markdown",
   "id": "6a36e0c9",
   "metadata": {},
   "source": [
    "Los indices negativos permiten que se recorra la lista de forma invertida."
   ]
  },
  {
   "cell_type": "code",
   "execution_count": 20,
   "id": "af4cb606",
   "metadata": {},
   "outputs": [
    {
     "data": {
      "text/plain": [
       "0"
      ]
     },
     "execution_count": 20,
     "metadata": {},
     "output_type": "execute_result"
    }
   ],
   "source": [
    "Digitos[-10]"
   ]
  },
  {
   "cell_type": "code",
   "execution_count": 21,
   "id": "9c2f8ffe",
   "metadata": {},
   "outputs": [
    {
     "data": {
      "text/plain": [
       "[9, 8, 7, 6, 5, 4, 3, 2, 1, 0]"
      ]
     },
     "execution_count": 21,
     "metadata": {},
     "output_type": "execute_result"
    }
   ],
   "source": [
    "Digitos[::-1]"
   ]
  },
  {
   "cell_type": "markdown",
   "id": "e828ee7f",
   "metadata": {},
   "source": [
    "Podemos usar un metodo de listas llamado `LISTA.reverse()`"
   ]
  },
  {
   "cell_type": "code",
   "execution_count": 22,
   "id": "35c1523c",
   "metadata": {},
   "outputs": [],
   "source": [
    "Digitos.reverse()"
   ]
  },
  {
   "cell_type": "code",
   "execution_count": 23,
   "id": "cac75914",
   "metadata": {},
   "outputs": [
    {
     "data": {
      "text/plain": [
       "[9, 8, 7, 6, 5, 4, 3, 2, 1, 0]"
      ]
     },
     "execution_count": 23,
     "metadata": {},
     "output_type": "execute_result"
    }
   ],
   "source": [
    "Digitos"
   ]
  },
  {
   "cell_type": "markdown",
   "id": "1ae6a7ca",
   "metadata": {},
   "source": [
    "Podemos contar las veces que aparece un elemento en una lista:"
   ]
  },
  {
   "cell_type": "code",
   "execution_count": 28,
   "id": "1f86cf86",
   "metadata": {},
   "outputs": [
    {
     "data": {
      "text/plain": [
       "1"
      ]
     },
     "execution_count": 28,
     "metadata": {},
     "output_type": "execute_result"
    }
   ],
   "source": [
    "Digitos.count(4)"
   ]
  },
  {
   "cell_type": "code",
   "execution_count": 29,
   "id": "b9bb8a34",
   "metadata": {},
   "outputs": [],
   "source": [
    "Lista3=[1,2,2,3,3,3,4,4,4,4]"
   ]
  },
  {
   "cell_type": "code",
   "execution_count": 30,
   "id": "1fae8d28",
   "metadata": {},
   "outputs": [
    {
     "data": {
      "text/plain": [
       "3"
      ]
     },
     "execution_count": 30,
     "metadata": {},
     "output_type": "execute_result"
    }
   ],
   "source": [
    "Lista3[5]"
   ]
  },
  {
   "cell_type": "code",
   "execution_count": 31,
   "id": "3b00ca8c",
   "metadata": {},
   "outputs": [
    {
     "data": {
      "text/plain": [
       "0"
      ]
     },
     "execution_count": 31,
     "metadata": {},
     "output_type": "execute_result"
    }
   ],
   "source": [
    "Lista3.count(5)"
   ]
  },
  {
   "cell_type": "code",
   "execution_count": 32,
   "id": "eff49831",
   "metadata": {},
   "outputs": [
    {
     "data": {
      "text/plain": [
       "3"
      ]
     },
     "execution_count": 32,
     "metadata": {},
     "output_type": "execute_result"
    }
   ],
   "source": [
    "Lista3.count(3)"
   ]
  },
  {
   "cell_type": "markdown",
   "id": "ad91b51d",
   "metadata": {},
   "source": [
    "Con `append` puedo agregaar elementos en una lista: "
   ]
  },
  {
   "cell_type": "code",
   "execution_count": 33,
   "id": "19021830",
   "metadata": {},
   "outputs": [],
   "source": [
    "Lista3.append(5)"
   ]
  },
  {
   "cell_type": "code",
   "execution_count": 34,
   "id": "dcdb850d",
   "metadata": {},
   "outputs": [
    {
     "data": {
      "text/plain": [
       "[1, 2, 2, 3, 3, 3, 4, 4, 4, 4, 5]"
      ]
     },
     "execution_count": 34,
     "metadata": {},
     "output_type": "execute_result"
    }
   ],
   "source": [
    "Lista3"
   ]
  },
  {
   "cell_type": "markdown",
   "id": "5ba1ede1",
   "metadata": {},
   "source": [
    "Si quieron agregar al inicio utilizo `insert`"
   ]
  },
  {
   "cell_type": "code",
   "execution_count": 35,
   "id": "b1628172",
   "metadata": {},
   "outputs": [],
   "source": [
    "Lista3.insert(3,10)"
   ]
  },
  {
   "cell_type": "code",
   "execution_count": 36,
   "id": "821308f1",
   "metadata": {},
   "outputs": [
    {
     "data": {
      "text/plain": [
       "[1, 2, 2, 10, 3, 3, 3, 4, 4, 4, 4, 5]"
      ]
     },
     "execution_count": 36,
     "metadata": {},
     "output_type": "execute_result"
    }
   ],
   "source": [
    "Lista3"
   ]
  },
  {
   "cell_type": "code",
   "execution_count": 37,
   "id": "b2ebcc52",
   "metadata": {},
   "outputs": [
    {
     "data": {
      "text/plain": [
       "['uno',\n",
       " 'dos',\n",
       " 'tres',\n",
       " 'cuatro',\n",
       " 'cinco',\n",
       " 'seis',\n",
       " 'siete',\n",
       " 'ocho',\n",
       " 'nueve',\n",
       " 'cero']"
      ]
     },
     "execution_count": 37,
     "metadata": {},
     "output_type": "execute_result"
    }
   ],
   "source": [
    "Lista2"
   ]
  },
  {
   "cell_type": "code",
   "execution_count": 38,
   "id": "3ad89df9",
   "metadata": {},
   "outputs": [],
   "source": [
    "Lista2.insert(5,'hola')"
   ]
  },
  {
   "cell_type": "code",
   "execution_count": 39,
   "id": "74c29432",
   "metadata": {},
   "outputs": [
    {
     "data": {
      "text/plain": [
       "['uno',\n",
       " 'dos',\n",
       " 'tres',\n",
       " 'cuatro',\n",
       " 'cinco',\n",
       " 'hola',\n",
       " 'seis',\n",
       " 'siete',\n",
       " 'ocho',\n",
       " 'nueve',\n",
       " 'cero']"
      ]
     },
     "execution_count": 39,
     "metadata": {},
     "output_type": "execute_result"
    }
   ],
   "source": [
    "Lista2"
   ]
  },
  {
   "cell_type": "markdown",
   "id": "2fa74d1d",
   "metadata": {},
   "source": [
    "Pra eliminar utilizo `remove`, esta función solo quita el primer elemento que aparece en la lista"
   ]
  },
  {
   "cell_type": "code",
   "execution_count": 40,
   "id": "8029c9e1",
   "metadata": {},
   "outputs": [],
   "source": [
    "Lista2.remove('hola')"
   ]
  },
  {
   "cell_type": "code",
   "execution_count": 41,
   "id": "ee4505e2",
   "metadata": {},
   "outputs": [
    {
     "data": {
      "text/plain": [
       "['uno',\n",
       " 'dos',\n",
       " 'tres',\n",
       " 'cuatro',\n",
       " 'cinco',\n",
       " 'seis',\n",
       " 'siete',\n",
       " 'ocho',\n",
       " 'nueve',\n",
       " 'cero']"
      ]
     },
     "execution_count": 41,
     "metadata": {},
     "output_type": "execute_result"
    }
   ],
   "source": [
    "Lista2"
   ]
  },
  {
   "cell_type": "code",
   "execution_count": 42,
   "id": "c228a657",
   "metadata": {},
   "outputs": [
    {
     "data": {
      "text/plain": [
       "[1, 2, 2, 10, 3, 3, 3, 4, 4, 4, 4, 5]"
      ]
     },
     "execution_count": 42,
     "metadata": {},
     "output_type": "execute_result"
    }
   ],
   "source": [
    "Lista3"
   ]
  },
  {
   "cell_type": "code",
   "execution_count": 44,
   "id": "be3c039a",
   "metadata": {},
   "outputs": [
    {
     "data": {
      "text/plain": [
       "[1, 2, 2, 10, 3, 3, 3, 4, 4, 5]"
      ]
     },
     "execution_count": 44,
     "metadata": {},
     "output_type": "execute_result"
    }
   ],
   "source": [
    "Lista3.remove(4)\n",
    "Lista3"
   ]
  },
  {
   "cell_type": "markdown",
   "id": "fae46ae7",
   "metadata": {},
   "source": [
    "El método `pop` puede eliminar, a través del indice"
   ]
  },
  {
   "cell_type": "code",
   "execution_count": 45,
   "id": "1580fb1b",
   "metadata": {},
   "outputs": [
    {
     "data": {
      "text/plain": [
       "['uno',\n",
       " 'dos',\n",
       " 'tres',\n",
       " 'cuatro',\n",
       " 'cinco',\n",
       " 'seis',\n",
       " 'siete',\n",
       " 'ocho',\n",
       " 'nueve',\n",
       " 'cero']"
      ]
     },
     "execution_count": 45,
     "metadata": {},
     "output_type": "execute_result"
    }
   ],
   "source": [
    "Lista2"
   ]
  },
  {
   "cell_type": "code",
   "execution_count": 46,
   "id": "7077b2a4",
   "metadata": {},
   "outputs": [
    {
     "data": {
      "text/plain": [
       "'cinco'"
      ]
     },
     "execution_count": 46,
     "metadata": {},
     "output_type": "execute_result"
    }
   ],
   "source": [
    "Lista2.pop(4)"
   ]
  },
  {
   "cell_type": "code",
   "execution_count": 47,
   "id": "c7cd85fa",
   "metadata": {},
   "outputs": [
    {
     "data": {
      "text/plain": [
       "['uno', 'dos', 'tres', 'cuatro', 'seis', 'siete', 'ocho', 'nueve', 'cero']"
      ]
     },
     "execution_count": 47,
     "metadata": {},
     "output_type": "execute_result"
    }
   ],
   "source": [
    "Lista2"
   ]
  },
  {
   "cell_type": "code",
   "execution_count": 51,
   "id": "26d5b386",
   "metadata": {},
   "outputs": [
    {
     "data": {
      "text/plain": [
       "['uno',\n",
       " 'dos',\n",
       " 'tres',\n",
       " 'cuatro',\n",
       " 'seis',\n",
       " 'siete',\n",
       " 'ocho',\n",
       " 'nueve',\n",
       " 'cero',\n",
       " 1,\n",
       " 2,\n",
       " 2,\n",
       " 10,\n",
       " 3,\n",
       " 3,\n",
       " 3,\n",
       " 4,\n",
       " 4,\n",
       " 5]"
      ]
     },
     "execution_count": 51,
     "metadata": {},
     "output_type": "execute_result"
    }
   ],
   "source": [
    "Listanueva=Lista2+Lista3\n",
    "Listanueva"
   ]
  },
  {
   "cell_type": "markdown",
   "id": "542b8636",
   "metadata": {},
   "source": [
    "Con el operador + se concatenan las listas, también se puede usar el método `extend` "
   ]
  },
  {
   "cell_type": "code",
   "execution_count": 54,
   "id": "abfff1a3",
   "metadata": {},
   "outputs": [
    {
     "data": {
      "text/plain": [
       "['uno',\n",
       " 'dos',\n",
       " 'tres',\n",
       " 'cuatro',\n",
       " 'seis',\n",
       " 'siete',\n",
       " 'ocho',\n",
       " 'nueve',\n",
       " 'cero',\n",
       " 1,\n",
       " 2,\n",
       " 2,\n",
       " 10,\n",
       " 3,\n",
       " 3,\n",
       " 3,\n",
       " 4,\n",
       " 4,\n",
       " 5,\n",
       " 1,\n",
       " 2,\n",
       " 2,\n",
       " 10,\n",
       " 3,\n",
       " 3,\n",
       " 3,\n",
       " 4,\n",
       " 4,\n",
       " 5]"
      ]
     },
     "execution_count": 54,
     "metadata": {},
     "output_type": "execute_result"
    }
   ],
   "source": [
    "Lista2.extend(Lista3)\n",
    "Lista2"
   ]
  },
  {
   "cell_type": "markdown",
   "id": "1ac70484",
   "metadata": {},
   "source": [
    "## Condicionales\n",
    "\n",
    "El condicional es una estrutura de control que permite ejucutar una subrutina según se satisfaga una condición inicial:\n",
    "\n",
    "Si ___condición ___ entonces___resultado__"
   ]
  },
  {
   "cell_type": "code",
   "execution_count": 57,
   "id": "fb9918f0",
   "metadata": {},
   "outputs": [],
   "source": [
    "if 4>5:\n",
    "    print('Cuatro es mayor que cinco')"
   ]
  },
  {
   "cell_type": "code",
   "execution_count": 61,
   "id": "62f32d63",
   "metadata": {},
   "outputs": [
    {
     "name": "stdout",
     "output_type": "stream",
     "text": [
      "Cuatro es menor que cinco\n"
     ]
    }
   ],
   "source": [
    "if 4<5:\n",
    "    print('Cuatro es menor que cinco')"
   ]
  },
  {
   "cell_type": "markdown",
   "id": "aa8b2c98",
   "metadata": {},
   "source": [
    "# Bucle for\n",
    "\n",
    "Un bucle es una estructura especial que permite que permiter recorrer los elementos de un iterable, en particular podemos recorrer los elementos de una lista:\n",
    "\n",
    "```Python\n",
    "\n",
    "for i in Lista:\n",
    "    ejercicio_1\n",
    "    resp\n",
    "fin\n",
    "```\n",
    "    \n",
    "  "
   ]
  },
  {
   "cell_type": "markdown",
   "id": "885a1ed9",
   "metadata": {},
   "source": [
    "Por ejemplo en la lista2 cdambiemos o por a e imprimamos:"
   ]
  },
  {
   "cell_type": "code",
   "execution_count": 74,
   "id": "27986705",
   "metadata": {},
   "outputs": [
    {
     "data": {
      "text/plain": [
       "['uno', 'dos', 'tres', 'cuatro', 'seis', 'siete', 'ocho', 'nueve']"
      ]
     },
     "execution_count": 74,
     "metadata": {},
     "output_type": "execute_result"
    }
   ],
   "source": [
    "Lista2=Lista2[:8]\n",
    "Lista2"
   ]
  },
  {
   "cell_type": "code",
   "execution_count": 77,
   "id": "3265fdd5",
   "metadata": {},
   "outputs": [
    {
     "name": "stdout",
     "output_type": "stream",
     "text": [
      "una\n",
      "----\n",
      "das\n",
      "----\n",
      "tres\n",
      "----\n",
      "cuatra\n",
      "----\n",
      "seis\n",
      "----\n",
      "siete\n",
      "----\n",
      "acha\n",
      "----\n",
      "nueve\n",
      "----\n"
     ]
    }
   ],
   "source": [
    "for i in Lista2:\n",
    "    print(i.replace('o','a') )\n",
    "    print('----')"
   ]
  },
  {
   "cell_type": "markdown",
   "id": "5e7a0804",
   "metadata": {},
   "source": [
    "Un iterable especial:"
   ]
  },
  {
   "cell_type": "markdown",
   "id": "5b1cbcb7",
   "metadata": {},
   "source": [
    "No todas las secuencias`iterables`, se definen como listas tambien se pueden utilizar funciones previas que generan las listas secuenciadas de manera autómatica `range(m,n,p)` , es u7n objeto de Python lo convertimos en lista con list para entender que contiene"
   ]
  },
  {
   "cell_type": "code",
   "execution_count": 62,
   "id": "4a3de392",
   "metadata": {},
   "outputs": [
    {
     "data": {
      "text/plain": [
       "range(0, 10)"
      ]
     },
     "execution_count": 62,
     "metadata": {},
     "output_type": "execute_result"
    }
   ],
   "source": [
    "range(10)#range(0)=range(0,n) \n",
    "         #genera una lista de enteros ordenados\n",
    "    #iniciamos en 0 terminamos en n-1"
   ]
  },
  {
   "cell_type": "code",
   "execution_count": 64,
   "id": "0d00bb43",
   "metadata": {},
   "outputs": [
    {
     "data": {
      "text/plain": [
       "[0, 1, 2, 3, 4, 5, 6, 7, 8, 9]"
      ]
     },
     "execution_count": 64,
     "metadata": {},
     "output_type": "execute_result"
    }
   ],
   "source": [
    "list(range(10))"
   ]
  },
  {
   "cell_type": "code",
   "execution_count": 67,
   "id": "9344b89d",
   "metadata": {},
   "outputs": [
    {
     "data": {
      "text/plain": [
       "[2, 3, 4, 5, 6, 7, 8, 9]"
      ]
     },
     "execution_count": 67,
     "metadata": {},
     "output_type": "execute_result"
    }
   ],
   "source": [
    "list(range(2,10)) #range(n,n)\n",
    "#genera una lista de enteros ordenados\n",
    "#iniciando en 0 terminamos en n-1"
   ]
  },
  {
   "cell_type": "code",
   "execution_count": 71,
   "id": "2cca44f8",
   "metadata": {},
   "outputs": [
    {
     "data": {
      "text/plain": [
       "[2, 4, 6, 8]"
      ]
     },
     "execution_count": 71,
     "metadata": {},
     "output_type": "execute_result"
    }
   ],
   "source": [
    "list(range(2,10,2)) #range(m,n,p)\n",
    "  #genera una lista de enteros ordenados\n",
    "    #iniciamos en 0 terminamos en n-1"
   ]
  },
  {
   "cell_type": "code",
   "execution_count": 70,
   "id": "215095b9",
   "metadata": {},
   "outputs": [
    {
     "data": {
      "text/plain": [
       "[2, 7]"
      ]
     },
     "execution_count": 70,
     "metadata": {},
     "output_type": "execute_result"
    }
   ],
   "source": [
    "list(range(2,10,5))"
   ]
  },
  {
   "cell_type": "code",
   "execution_count": 73,
   "id": "8ae6a326",
   "metadata": {},
   "outputs": [
    {
     "data": {
      "text/plain": [
       "range(1, 101)"
      ]
     },
     "execution_count": 73,
     "metadata": {},
     "output_type": "execute_result"
    }
   ],
   "source": [
    "Lista_100=range(1,101)\n",
    "Lista_100"
   ]
  },
  {
   "cell_type": "markdown",
   "id": "6673819b",
   "metadata": {},
   "source": [
    "Usando `for` podemos hacer cosas interesantes"
   ]
  },
  {
   "cell_type": "code",
   "execution_count": 80,
   "id": "df590015",
   "metadata": {},
   "outputs": [
    {
     "name": "stdout",
     "output_type": "stream",
     "text": [
      "6\n",
      "12\n",
      "18\n",
      "24\n",
      "30\n",
      "36\n",
      "42\n",
      "48\n",
      "54\n",
      "60\n",
      "66\n",
      "72\n",
      "78\n",
      "84\n",
      "90\n",
      "96\n"
     ]
    }
   ],
   "source": [
    "for i in range(1,101):\n",
    "    if i%6==0:\n",
    "        print(i)"
   ]
  },
  {
   "cell_type": "code",
   "execution_count": 85,
   "id": "96b866af",
   "metadata": {},
   "outputs": [
    {
     "name": "stdout",
     "output_type": "stream",
     "text": [
      "El número que vamos a estudiar es uno 1\n",
      "1 es un número que al dvidirse por tres tiene residuo 1\n",
      "***************************************************\n",
      "\n",
      "\n",
      "El número que vamos a estudiar es uno 2\n",
      "2 es un número que al dvidirse por tres tiene residuo 2\n",
      "***************************************************\n",
      "\n",
      "\n",
      "El número que vamos a estudiar es uno 3\n",
      "3 es un número que al dvidirse por tres tiene residuo 0\n",
      "Este número es especial porque es múltiplo de 3\n",
      "***************************************************\n",
      "\n",
      "\n",
      "El número que vamos a estudiar es uno 4\n",
      "4 es un número que al dvidirse por tres tiene residuo 1\n",
      "***************************************************\n",
      "\n",
      "\n",
      "El número que vamos a estudiar es uno 5\n",
      "5 es un número que al dvidirse por tres tiene residuo 2\n",
      "***************************************************\n",
      "\n",
      "\n",
      "El número que vamos a estudiar es uno 6\n",
      "6 es un número que al dvidirse por tres tiene residuo 0\n",
      "Este número es especial porque es múltiplo de 3\n",
      "***************************************************\n",
      "\n",
      "\n",
      "El número que vamos a estudiar es uno 7\n",
      "7 es un número que al dvidirse por tres tiene residuo 1\n",
      "***************************************************\n",
      "\n",
      "\n",
      "El número que vamos a estudiar es uno 8\n",
      "8 es un número que al dvidirse por tres tiene residuo 2\n",
      "***************************************************\n",
      "\n",
      "\n",
      "El número que vamos a estudiar es uno 9\n",
      "9 es un número que al dvidirse por tres tiene residuo 0\n",
      "Este número es especial porque es múltiplo de 3\n",
      "***************************************************\n",
      "\n",
      "\n",
      "El número que vamos a estudiar es uno 10\n",
      "10 es un número que al dvidirse por tres tiene residuo 1\n",
      "***************************************************\n",
      "\n",
      "\n",
      "El número que vamos a estudiar es uno 11\n",
      "11 es un número que al dvidirse por tres tiene residuo 2\n",
      "***************************************************\n",
      "\n",
      "\n",
      "El número que vamos a estudiar es uno 12\n",
      "12 es un número que al dvidirse por tres tiene residuo 0\n",
      "Este número es especial porque es múltiplo de 3\n",
      "***************************************************\n",
      "\n",
      "\n",
      "El número que vamos a estudiar es uno 13\n",
      "13 es un número que al dvidirse por tres tiene residuo 1\n",
      "***************************************************\n",
      "\n",
      "\n",
      "El número que vamos a estudiar es uno 14\n",
      "14 es un número que al dvidirse por tres tiene residuo 2\n",
      "***************************************************\n",
      "\n",
      "\n",
      "El número que vamos a estudiar es uno 15\n",
      "15 es un número que al dvidirse por tres tiene residuo 0\n",
      "Este número es especial porque es múltiplo de 3\n",
      "***************************************************\n",
      "\n",
      "\n",
      "El número que vamos a estudiar es uno 16\n",
      "16 es un número que al dvidirse por tres tiene residuo 1\n",
      "***************************************************\n",
      "\n",
      "\n",
      "El número que vamos a estudiar es uno 17\n",
      "17 es un número que al dvidirse por tres tiene residuo 2\n",
      "***************************************************\n",
      "\n",
      "\n",
      "El número que vamos a estudiar es uno 18\n",
      "18 es un número que al dvidirse por tres tiene residuo 0\n",
      "Este número es especial porque es múltiplo de 3\n",
      "***************************************************\n",
      "\n",
      "\n",
      "El número que vamos a estudiar es uno 19\n",
      "19 es un número que al dvidirse por tres tiene residuo 1\n",
      "***************************************************\n",
      "\n",
      "\n",
      "El número que vamos a estudiar es uno 20\n",
      "20 es un número que al dvidirse por tres tiene residuo 2\n",
      "***************************************************\n",
      "\n",
      "\n"
     ]
    }
   ],
   "source": [
    "for i in range(1,21):\n",
    "    print('El número que vamos a estudiar es uno',i)\n",
    "    \n",
    "    print(i,'es un número que al dvidirse por tres tiene residuo',i%3)\n",
    "    if i%3==0:\n",
    "        print('Este número es especial porque es múltiplo de 3')\n",
    "    print('***************************************************')\n",
    "    print()\n",
    "    print()"
   ]
  },
  {
   "cell_type": "code",
   "execution_count": null,
   "id": "11ff35dd",
   "metadata": {},
   "outputs": [],
   "source": []
  }
 ],
 "metadata": {
  "kernelspec": {
   "display_name": "Python 3 (ipykernel)",
   "language": "python",
   "name": "python3"
  },
  "language_info": {
   "codemirror_mode": {
    "name": "ipython",
    "version": 3
   },
   "file_extension": ".py",
   "mimetype": "text/x-python",
   "name": "python",
   "nbconvert_exporter": "python",
   "pygments_lexer": "ipython3",
   "version": "3.9.7"
  }
 },
 "nbformat": 4,
 "nbformat_minor": 5
}
